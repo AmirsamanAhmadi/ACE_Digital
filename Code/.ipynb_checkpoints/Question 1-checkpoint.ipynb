{
 "cells": [
  {
   "cell_type": "markdown",
   "metadata": {},
   "source": [
    "## Question 1 \n",
    "\n",
    "To verify if the formulations are significantly different statistically.\n",
    "\n",
    "#### a. A descriptive analysis of the additives (columns named as “a” to “i”), which must include summaries of findings (parametric/non-parametric).  Correlation and ANOVA, if applicable, is a must.\n",
    "\n",
    "#### b. A graphical analysis of the additives, including a distribution study.\n",
    "\n",
    "#### c. A clustering test of your choice (unsupervised learning), to determine the distinctive number of formulations present in the dataset."
   ]
  },
  {
   "cell_type": "code",
   "execution_count": null,
   "metadata": {},
   "outputs": [],
   "source": [
    "import os\n",
    "import pandas as pd\n",
    "import numpy as np\n",
    "from ipynb.fs.full.Functions import *\n",
    "import matplotlib.pyplot as plt\n",
    "import seaborn as sns\n",
    "import warnings\n",
    "import statsmodels.api as sm\n",
    "from statsmodels.formula.api import ols\n",
    "warnings.filterwarnings(\"ignore\")\n",
    "%matplotlib inline"
   ]
  },
  {
   "cell_type": "code",
   "execution_count": null,
   "metadata": {},
   "outputs": [],
   "source": [
    "#importing the data\n",
    "ingredient = pd.read_csv('data/ingredient.csv')\n",
    "ingredient.head()"
   ]
  },
  {
   "cell_type": "markdown",
   "metadata": {},
   "source": [
    "## Exploratory data analysis\n",
    "\n",
    "### After importing the dataset using pandas libarary, statstical EDA is conducted."
   ]
  },
  {
   "cell_type": "code",
   "execution_count": null,
   "metadata": {},
   "outputs": [],
   "source": [
    "#looking into ingredient data and finding the datatypes & number of non-null rows\n",
    "ingredient.info()"
   ]
  },
  {
   "cell_type": "code",
   "execution_count": null,
   "metadata": {},
   "outputs": [],
   "source": [
    "#Finding total number of missing values in each features\n",
    "ingredient.isnull().sum()"
   ]
  },
  {
   "cell_type": "code",
   "execution_count": null,
   "metadata": {
    "scrolled": true
   },
   "outputs": [],
   "source": [
    "ingredient.describe()"
   ]
  },
  {
   "cell_type": "markdown",
   "metadata": {},
   "source": [
    "##### Using \"Describe\" function we can find out about some general information on our dataset. From the table above additive \"i\" has the least usage (consumption) while \"e\" has the highest. In addtion, we can obtain information such as mean,std,min which can be useful for further analysis  "
   ]
  },
  {
   "cell_type": "code",
   "execution_count": null,
   "metadata": {
    "scrolled": true
   },
   "outputs": [],
   "source": [
    "ingredient.corr()"
   ]
  },
  {
   "cell_type": "markdown",
   "metadata": {},
   "source": [
    "#### Table above shows the correlations among features. \n",
    "#### Heatmap was consutructed for better understanding."
   ]
  },
  {
   "cell_type": "code",
   "execution_count": null,
   "metadata": {},
   "outputs": [],
   "source": [
    "plt.figure(figsize=(16,10))\n",
    "sns.heatmap(ingredient.corr(),annot=True)"
   ]
  },
  {
   "cell_type": "markdown",
   "metadata": {},
   "source": [
    "Heatmap above shows that \"a\" has high negative correlations with \"e\" and \"d\".\n",
    "Similarly \"c\" has high negative relations with \"h\",\"g\" and \"d\" meaning if one increases the other will most likely decrease.On the other hand \"a\" and \"g\" have the high positve correlations meaning if \"a\" increases \"g\" also most likely will increase,same goes to \"d\" and \"h\""
   ]
  },
  {
   "cell_type": "code",
   "execution_count": null,
   "metadata": {},
   "outputs": [],
   "source": [
    "df = ingredient.copy()"
   ]
  },
  {
   "cell_type": "markdown",
   "metadata": {},
   "source": [
    "Box-plot below shows the outliers in each additives. There are several outliers can be detected in this figure however \"e\" has diffrent scale than the rest. Therefore they are plotted separately for better visualization. Based on Boxplots, the means for each additives are different. T-test (for two features) or ANOVA analysis (more than 2 features) to further determine if there is any significant difference between the additives."
   ]
  },
  {
   "cell_type": "code",
   "execution_count": null,
   "metadata": {},
   "outputs": [],
   "source": [
    "plt.figure(figsize=(16, 4))\n",
    "sns.boxplot(data = ingredient)"
   ]
  },
  {
   "cell_type": "code",
   "execution_count": null,
   "metadata": {
    "scrolled": true
   },
   "outputs": [],
   "source": [
    "# cols = ['a','b','c','d','e','f','g','h','i']\n",
    "box_plots(ingredient,ingredient.columns,3,'y',title=None,figsize=(16,20))"
   ]
  },
  {
   "cell_type": "markdown",
   "metadata": {},
   "source": [
    "Outliers shown in the boxplot above can be treat them accordingly by eliminate them from the dataset using Z score measure. However since the dataset is so small, It has been decided to continue with all the data."
   ]
  },
  {
   "cell_type": "markdown",
   "metadata": {},
   "source": [
    "# ANOVA Testing\n",
    "\n",
    "### Null hypothesis (H0) = There is no significant difference among the average consumptions of additives in formulations\n",
    "### Alternative hypothesis (H1) = There are significant diffrence among the average consumptions of at least two of the additives."
   ]
  },
  {
   "cell_type": "code",
   "execution_count": null,
   "metadata": {},
   "outputs": [],
   "source": [
    "#Reshape the dataset to prepare it for Analysis of variance or ANOVA\n",
    "df = pd.melt(ingredient,value_vars=ingredient.columns,var_name='additives')\n",
    "df.head()"
   ]
  },
  {
   "cell_type": "code",
   "execution_count": null,
   "metadata": {},
   "outputs": [],
   "source": [
    "#Check if all the additives are having same number of rows\n",
    "df['additives'].value_counts().sort_index()"
   ]
  },
  {
   "cell_type": "code",
   "execution_count": null,
   "metadata": {},
   "outputs": [],
   "source": [
    "mod = ols('value~additives',data=df).fit()\n",
    "aov = sm.stats.anova_lm(mod,type=2)\n",
    "aov"
   ]
  },
  {
   "cell_type": "markdown",
   "metadata": {},
   "source": [
    "### Interpretation: The P-value obtained from ANOVA analysis is significant (P<0.05),  Therefore, we conclude that there are significant differences among additives."
   ]
  },
  {
   "cell_type": "markdown",
   "metadata": {},
   "source": [
    "From ANOVA analysis, we know that additives differences are statistically significant, but ANOVA does not tell which additives are significantly different from each other. To know the pairs of significant different addtives, we will perform multiple pairwise comparison (Post-hoc comparison) analysis using Tukey HSD test."
   ]
  },
  {
   "cell_type": "code",
   "execution_count": null,
   "metadata": {},
   "outputs": [],
   "source": [
    "# load packages\n",
    "from pingouin import pairwise_tukey\n",
    "# perform multiple pairwise comparison (Tukey HSD)\n",
    "m_comp = pairwise_tukey(data=df, dv='value', between='additives')\n",
    "m_comp"
   ]
  },
  {
   "cell_type": "markdown",
   "metadata": {},
   "source": [
    "Above results from Tukey HSD suggests that except a-d,f-h,h-i, all other pairwise comparisons for addtives rejects null hypothesis (P-tukey<0.05) and indicates statistical significant differences."
   ]
  },
  {
   "cell_type": "code",
   "execution_count": null,
   "metadata": {},
   "outputs": [],
   "source": [
    "sns.pairplot(ingredient)"
   ]
  },
  {
   "cell_type": "markdown",
   "metadata": {},
   "source": [
    "The pairplot above shows some correlations among the addtives. For example we can see a-g have positive relations. This also has been varified in the heatmap above."
   ]
  },
  {
   "cell_type": "code",
   "execution_count": null,
   "metadata": {},
   "outputs": [],
   "source": [
    "# cols = ['a','b','c','d','e','f','g','h','i']\n",
    "dis_plot(ingredient,ingredient.columns,3)"
   ]
  },
  {
   "cell_type": "markdown",
   "metadata": {},
   "source": [
    "From the figure above it can determine that additives \"f\", \"h\" and \"i\" has lower consumptions than others while \"a\",\"b\",\"d\",\"e\",\"g\" have normal distributions and consumptions. In addtion we can see that \"c\" has diffrent distribusions and two peaks. This could be because not all the formula uses \"c\" or some formula uses c more than others."
   ]
  },
  {
   "cell_type": "code",
   "execution_count": null,
   "metadata": {},
   "outputs": [],
   "source": [
    "#Transform features by scaling each feature to a given range\n",
    "from sklearn.preprocessing import MinMaxScaler\n",
    "mms = MinMaxScaler()\n",
    "mms.fit(ingredient)\n",
    "Tingredient = mms.transform(ingredient)"
   ]
  },
  {
   "cell_type": "code",
   "execution_count": null,
   "metadata": {},
   "outputs": [],
   "source": [
    "#Find Optimal K \n",
    "from sklearn.cluster import KMeans\n",
    "squared_distances = []\n",
    "K = range(1,10)\n",
    "for k in K:\n",
    "    km = KMeans(n_clusters=k)\n",
    "    km = km.fit(Tingredient)\n",
    "    squared_distances.append(km.inertia_)"
   ]
  },
  {
   "cell_type": "code",
   "execution_count": null,
   "metadata": {},
   "outputs": [],
   "source": [
    "#Visualize optimom number of clusters\n",
    "plt.plot(K, squared_distances, 'bx-')\n",
    "plt.xlabel('K')\n",
    "plt.ylabel('Sum(d^2)')\n",
    "plt.title('K Optimization')\n",
    "plt.show()"
   ]
  },
  {
   "cell_type": "raw",
   "metadata": {},
   "source": [
    "Figure above shows the optimal number of clusters could be 3"
   ]
  },
  {
   "cell_type": "code",
   "execution_count": null,
   "metadata": {},
   "outputs": [],
   "source": [
    "from numpy import unique\n",
    "from numpy import where\n",
    "from sklearn.datasets import make_classification\n",
    "from sklearn.cluster import MiniBatchKMeans\n",
    "from matplotlib import pyplot\n",
    "\n",
    "model = MiniBatchKMeans(n_clusters=3)\n",
    "# fit the model\n",
    "model.fit(Tingredient)\n",
    "# assign a cluster to each example\n",
    "yhat = model.predict(Tingredient)\n",
    "# retrieve unique clusters\n",
    "clusters = unique(yhat)\n",
    "# create scatter plot for samples from each cluster\n",
    "for cluster in clusters:\n",
    "    # get row indexes for samples with this cluster\n",
    "    row_ix = where(yhat == cluster)\n",
    "    # create scatter of these samples\n",
    "    pyplot.scatter(Tingredient[row_ix, 0], Tingredient[row_ix,3])\n",
    "# show the plot\n",
    "pyplot.show()"
   ]
  },
  {
   "cell_type": "code",
   "execution_count": null,
   "metadata": {},
   "outputs": [],
   "source": [
    "ingredient2 = ingredient.copy()"
   ]
  },
  {
   "cell_type": "markdown",
   "metadata": {},
   "source": [
    "Since it is a multi-dimentional problem, in the 2-D graph above there are lots of points in the same vacinity allocated to different clusters."
   ]
  },
  {
   "cell_type": "code",
   "execution_count": null,
   "metadata": {},
   "outputs": [],
   "source": [
    "ingredient2['cluster'] = yhat\n",
    "ingredient2"
   ]
  },
  {
   "cell_type": "code",
   "execution_count": null,
   "metadata": {},
   "outputs": [],
   "source": [
    "sns.pairplot(ingredient2,hue='cluster')"
   ]
  },
  {
   "cell_type": "code",
   "execution_count": null,
   "metadata": {},
   "outputs": [],
   "source": [
    "from mpl_toolkits.mplot3d import Axes3D\n",
    "\n",
    "fig = plt.figure()\n",
    "ax = fig.add_subplot(111, projection='3d')\n",
    "\n",
    "for i, cluster in enumerate(clusters):\n",
    "    # get row indexes for samples with this cluster\n",
    "    row_ix = where(yhat == cluster)\n",
    "    \n",
    "    x = np.array(Tingredient[row_ix,1])\n",
    "    y = np.array(Tingredient[row_ix,2])\n",
    "    z = np.array(Tingredient[row_ix,3])\n",
    "    # create scatter of these samples\n",
    "    ax.scatter(x,y,z, marker=\"s\", s=40)\n",
    "# show the plot\n",
    "pyplot.show()"
   ]
  },
  {
   "cell_type": "markdown",
   "metadata": {},
   "source": [
    "The 3-D Graph above shows the three clusters "
   ]
  }
 ],
 "metadata": {
  "kernelspec": {
   "display_name": "Python 3",
   "language": "python",
   "name": "python3"
  },
  "language_info": {
   "codemirror_mode": {
    "name": "ipython",
    "version": 3
   },
   "file_extension": ".py",
   "mimetype": "text/x-python",
   "name": "python",
   "nbconvert_exporter": "python",
   "pygments_lexer": "ipython3",
   "version": "3.8.3"
  }
 },
 "nbformat": 4,
 "nbformat_minor": 4
}
