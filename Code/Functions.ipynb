{
 "cells": [
  {
   "cell_type": "code",
   "execution_count": 1,
   "metadata": {},
   "outputs": [],
   "source": [
    "import matplotlib.pyplot as plt\n",
    "import seaborn as sns\n",
    "import pandas as pd\n",
    "import plotly.graph_objects as go\n",
    "import plotly.express as px\n",
    "import warnings\n",
    "from sklearn.model_selection import train_test_split\n",
    "from sklearn.ensemble import RandomForestClassifier, ExtraTreesClassifier\n",
    "from sklearn import metrics\n",
    "from sklearn.metrics import accuracy_score, roc_auc_score,log_loss,f1_score,confusion_matrix\n",
    "from sklearn.model_selection import cross_val_score\n",
    "from scipy.stats import randint\n",
    "from scipy.stats import uniform\n",
    "from xgboost import XGBClassifier\n",
    "from sklearn.model_selection import RandomizedSearchCV\n",
    "from xgboost import plot_importance\n",
    "warnings.filterwarnings(\"ignore\")"
   ]
  },
  {
   "cell_type": "code",
   "execution_count": 2,
   "metadata": {},
   "outputs": [],
   "source": [
    "def box_plots(df,Tot,Cols,direction,title=None, figsize=(16,10),fontsize=35):\n",
    "    totalgraphs = len(Tot)\n",
    "    Rows = totalgraphs // Cols \n",
    "    Rows += totalgraphs % Cols\n",
    "\n",
    "    Position = range(1,totalgraphs + 1)\n",
    "\n",
    "    fig = plt.figure(figsize=figsize)\n",
    "    for k in range(len(Tot)):\n",
    "        ax = fig.add_subplot(Rows,Cols,Position[k])\n",
    "        if direction == \"x\":\n",
    "            sns.boxplot(x=Tot[k], data=df)\n",
    "        else:\n",
    "            sns.boxplot(y=Tot[k], data=df)\n",
    "        if title:\n",
    "            plt.suptitle(title, fontsize=fontsize, y=1)\n",
    "    plt.subplots_adjust(wspace=0.3)\n",
    "    plt.show()"
   ]
  },
  {
   "cell_type": "code",
   "execution_count": 3,
   "metadata": {},
   "outputs": [],
   "source": [
    "def count_plots(df,Tot,Cols,direction,title=None, figsize=(16,10),fontsize=35):\n",
    "    totalgraphs = len(Tot)\n",
    "    Rows = totalgraphs // Cols \n",
    "    Rows += totalgraphs % Cols\n",
    "\n",
    "    Position = range(1,totalgraphs + 1)\n",
    "\n",
    "    fig = plt.figure(figsize=figsize)\n",
    "    for k in range(len(Tot)):\n",
    "        ax = fig.add_subplot(Rows,Cols,Position[k])\n",
    "        if direction == \"x\":\n",
    "            sns.countplot(x=Tot[k], data=df)\n",
    "        else:\n",
    "            sns.countplot(y=Tot[k], data=df)\n",
    "        if title:\n",
    "            plt.suptitle(title, fontsize=fontsize, y=1)\n",
    "    plt.subplots_adjust(wspace=0.3)\n",
    "    plt.show()"
   ]
  },
  {
   "cell_type": "code",
   "execution_count": 4,
   "metadata": {},
   "outputs": [],
   "source": [
    "def bar_count_plot(df,cols,title=None, figsize=(16,16), suptitle_y=0.95):\n",
    "    fig, axs = plt.subplots(1, 2, figsize=figsize)\n",
    "    plt.suptitle(title, fontsize=20, y=suptitle_y)\n",
    "    sns.barplot(x= cols[0], y= cols[1],data=df,ax=axs[0]) \n",
    "    sns.countplot(y=cols[1], data=df,ax=axs[1]);\n",
    "    if title:\n",
    "        plt.suptitle(title, fontsize=35, y=0.9)\n",
    "    \n",
    "    plt.subplots_adjust(wspace=0.3)\n",
    "    plt.show()"
   ]
  },
  {
   "cell_type": "code",
   "execution_count": 5,
   "metadata": {},
   "outputs": [],
   "source": [
    "def count_2df_plot(df,df2,cols,title=None, figsize=(16,16), suptitle_y=0.95):\n",
    "    fig, axs = plt.subplots(1, 2, figsize=figsize)\n",
    "    plt.suptitle(title, fontsize=20, y=suptitle_y)\n",
    "    sns.countplot(y=cols[0], data=df,ax=axs[0]);\n",
    "    sns.countplot(y=cols[0], data=df2,ax=axs[1]);\n",
    "    if title:\n",
    "        plt.suptitle(title, fontsize=35, y=0.9)\n",
    "    \n",
    "    plt.subplots_adjust(wspace=0.4)\n",
    "    plt.show()"
   ]
  },
  {
   "cell_type": "code",
   "execution_count": 6,
   "metadata": {},
   "outputs": [],
   "source": [
    "def dis_plot(df,Tot,ncols,title=None, figsize=(16,10),fontsize=35):\n",
    "    totalgraphs = len(Tot)\n",
    "    Rows = totalgraphs // ncols \n",
    "    Rows += totalgraphs % ncols\n",
    "\n",
    "    Position = range(1,totalgraphs + 1)\n",
    "\n",
    "    fig = plt.figure(figsize=figsize)\n",
    "    for k in range(len(Tot)):\n",
    "        ax = fig.add_subplot(Rows,ncols,Position[k])\n",
    "        sns.distplot(df[Tot[k]])\n",
    "    if title:\n",
    "        plt.suptitle(title, fontsize=fontsize, y=1)\n",
    "    plt.subplots_adjust(wspace=0.3)\n",
    "    plt.show()"
   ]
  },
  {
   "cell_type": "code",
   "execution_count": 7,
   "metadata": {},
   "outputs": [],
   "source": [
    "def statesChoropleth(df,cols,colbartext,text):\n",
    "    fig = go.Figure(data=go.Choropleth(\n",
    "    locations=df[cols[0]],\n",
    "    z=df[cols[1]].astype(float),\n",
    "    locationmode='USA-states',\n",
    "    colorscale='Reds',\n",
    "    autocolorscale=False,\n",
    "    marker_line_color='white', # line markers between states\n",
    "    colorbar_title=colbartext\n",
    "    ))\n",
    "    fig.update_layout(\n",
    "    title_text=text,\n",
    "    geo = dict(\n",
    "        scope='usa',\n",
    "        projection=go.layout.geo.Projection(type = 'albers usa'),\n",
    "        showlakes=True, # lakes\n",
    "        lakecolor='rgb(255, 255, 255)'),\n",
    "    )\n",
    "    fig.show()"
   ]
  }
 ],
 "metadata": {
  "kernelspec": {
   "display_name": "Python 3",
   "language": "python",
   "name": "python3"
  },
  "language_info": {
   "codemirror_mode": {
    "name": "ipython",
    "version": 3
   },
   "file_extension": ".py",
   "mimetype": "text/x-python",
   "name": "python",
   "nbconvert_exporter": "python",
   "pygments_lexer": "ipython3",
   "version": "3.8.3"
  }
 },
 "nbformat": 4,
 "nbformat_minor": 4
}
